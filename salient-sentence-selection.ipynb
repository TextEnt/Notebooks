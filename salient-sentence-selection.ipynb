{
 "cells": [
  {
   "cell_type": "markdown",
   "metadata": {},
   "source": [
    "## Imports"
   ]
  },
  {
   "cell_type": "code",
   "execution_count": 1,
   "metadata": {},
   "outputs": [],
   "source": [
    "import sys\n",
    "import pandas as pd\n",
    "from pathlib import Path\n",
    "sys.path.append(\"../\")\n",
    "from spacy.tokens import DocBin, Doc\n",
    "from typing import List, Tuple\n",
    "from lib.utils import tei2spacy, nlp_model_fr, sample_files, print_corpus_summary, SalientSentenceSelector"
   ]
  },
  {
   "cell_type": "code",
   "execution_count": 2,
   "metadata": {},
   "outputs": [],
   "source": [
    "SPACY_CORPUS_SERIALIZED_PATH = \"./data/corpus.spacy\""
   ]
  },
  {
   "cell_type": "markdown",
   "metadata": {},
   "source": [
    "## Loading pre-processed data"
   ]
  },
  {
   "cell_type": "code",
   "execution_count": 3,
   "metadata": {},
   "outputs": [
    {
     "name": "stdout",
     "output_type": "stream",
     "text": [
      "Loaded serialize spacy corpus from ./data/corpus.spacy\n",
      "Number of documents in the corpus: 12\n",
      "Number of entities in the corpus: 3204\n",
      "Number of tokens in the corpus: 184314\n"
     ]
    }
   ],
   "source": [
    "if Path(SPACY_CORPUS_SERIALIZED_PATH).exists():\n",
    "    spacy_corpus = DocBin(store_user_data=True).from_disk(SPACY_CORPUS_SERIALIZED_PATH)\n",
    "    print(f\"Loaded serialize spacy corpus from {SPACY_CORPUS_SERIALIZED_PATH}\")\n",
    "    print_corpus_summary(spacy_corpus, nlp_model_fr)\n",
    "else:\n",
    "    spacy_corpus = DocBin(store_user_data=True)"
   ]
  },
  {
   "cell_type": "code",
   "execution_count": 4,
   "metadata": {},
   "outputs": [],
   "source": [
    "docs = spacy_corpus.get_docs(nlp_model_fr.vocab)"
   ]
  },
  {
   "cell_type": "markdown",
   "metadata": {},
   "source": [
    "## Adding entity linking information to docs in corpus"
   ]
  },
  {
   "cell_type": "code",
   "execution_count": 5,
   "metadata": {},
   "outputs": [],
   "source": [
    "entity_fishing_pipe = nlp_model_fr.add_pipe(\n",
    "    \"entityfishing\", config={\n",
    "        \"api_ef_base\": \"http://nerd.huma-num.fr/nerd/service\"\n",
    "    }\n",
    ")"
   ]
  },
  {
   "cell_type": "code",
   "execution_count": 6,
   "metadata": {},
   "outputs": [],
   "source": [
    "#nlp_model_fr.pipe_names"
   ]
  },
  {
   "cell_type": "code",
   "execution_count": 7,
   "metadata": {},
   "outputs": [],
   "source": [
    "el_docs = [\n",
    "    entity_fishing_pipe(spacy_doc)\n",
    "    for spacy_doc in docs\n",
    "]"
   ]
  },
  {
   "cell_type": "markdown",
   "metadata": {},
   "source": [
    "## Selection of salient sentences"
   ]
  },
  {
   "cell_type": "code",
   "execution_count": 8,
   "metadata": {},
   "outputs": [],
   "source": [
    "# take a sample document    \n",
    "sample_doc = el_docs[9]"
   ]
  },
  {
   "cell_type": "code",
   "execution_count": 9,
   "metadata": {},
   "outputs": [
    {
     "name": "stdout",
     "output_type": "stream",
     "text": [
      "Document bpt6k5458862p.tar.gz.tei_segmented_ner.xml contains 460 PER entities; 134 linked and 326 non-linked\n",
      "Document bpt6k5458862p.tar.gz.tei_segmented_ner.xml contains 49 PER unique entities\n",
      "Document bpt6k5458862p.tar.gz.tei_segmented_ner.xml contains 11 LOC entities; 9 linked and 2 non-linked\n",
      "Document bpt6k5458862p.tar.gz.tei_segmented_ner.xml contains 7 LOC unique entities\n"
     ]
    }
   ],
   "source": [
    "sass = SalientSentenceSelector(sample_doc)"
   ]
  },
  {
   "cell_type": "code",
   "execution_count": 21,
   "metadata": {},
   "outputs": [
    {
     "data": {
      "text/plain": [
       "{'Q894836': Entity(qid='Q894836', ner_labels=['LOC'], mention_frequency=1, unique_surface_forms=['PARIS'], short_desc=''),\n",
       " 'Q90': Entity(qid='Q90', ner_labels=['LOC'], mention_frequency=3, unique_surface_forms=['Paris'], short_desc=''),\n",
       " 'Q1405281': Entity(qid='Q1405281', ner_labels=['LOC'], mention_frequency=1, unique_surface_forms=['Troie'], short_desc=''),\n",
       " 'Q142': Entity(qid='Q142', ner_labels=['LOC'], mention_frequency=1, unique_surface_forms=['France'], short_desc=''),\n",
       " 'Q1469': Entity(qid='Q1469', ner_labels=['LOC'], mention_frequency=1, unique_surface_forms=['Loire'], short_desc=''),\n",
       " 'Q193821': Entity(qid='Q193821', ner_labels=['LOC'], mention_frequency=1, unique_surface_forms=['Saumur'], short_desc=''),\n",
       " 'Q1471': Entity(qid='Q1471', ner_labels=['LOC'], mention_frequency=1, unique_surface_forms=['Seine'], short_desc='')}"
      ]
     },
     "execution_count": 21,
     "metadata": {},
     "output_type": "execute_result"
    }
   ],
   "source": [
    "sass.place_entities"
   ]
  },
  {
   "cell_type": "code",
   "execution_count": 11,
   "metadata": {},
   "outputs": [],
   "source": [
    "# use the  SalientSentenceSelector to extract the top 5 sentences for the most frequent person in the document\n",
    "# this entity context made of the k sentences can then be fed to an LLM (vel sim.) to characterise the spation-temporal\n",
    "# dimension of the document\n",
    "person_context = sass.select(top_k_sentences=5, entity_type='person')"
   ]
  },
  {
   "cell_type": "code",
   "execution_count": 12,
   "metadata": {},
   "outputs": [
    {
     "data": {
      "text/plain": [
       "(Entity(qid='Q18190448', ner_labels=['PER'], mention_frequency=52, unique_surface_forms=['Guillaume'], short_desc=''),\n",
       " [Guillaume Que c'est un grapd trésor que notre liberté, Qu'on la compare mal au bien de la clartète, Que l'usage en est doux, et qu'au temps où nous sommes, Un bien qui vient du Ciel se vend mal à des hommes, Le libéral arbitre est un don précieux Par où nous éprouvons la clémence des Dieux, Un esprit franc et libre où la raison abonde Enne possédant rien, possède tout le monde, Il ne dépend jamais de tant d'esprits divers, Au lieu d'une maison il a tour d'Unissers, Sa richesse le suit, et l'âme, sans contrainte, Sans auoir ai vertu sans con visage empreinte, LES PÂTONS,\n",
       "  Quand elle aura connu mon âme par ta bouche, Regarde dans son teint comment cela la touche, Prends garde si l'amour retient ensevelis Sous un peu de rougeur, ses roses et ses lis, Compte tous ses soupirs, et te donne la gloire D'âpporter mon salut dans ta belle mémoire, Guillaume Tout ce que l'artifice aura d'inventions, Ce qu'on ne fît jamais aux autres passions, Les mouvements des sens, de l'âme, et du visage, Tous les vices d'un fol, et les vertus d'un sage, Pont et quon nonmne peur, et te qnitne peur pas;,\n",
       "  Guillaume Ah, mon ami, qu'aimer est une belle chose, Si vous saviez l'état où votre vis maintenant, Je ne fais plus de vœux à Carême-prenanf, Bacchus m'est ennemi, je fais geler les treilles, J'ai hanni les festins, j'ai rompu les bouteilles, Je ne vis que d'amour, de cipre, et d'ambregris, Je pense que le Ciel est tombé dans Paris, Ne parlez plus de vous tant de vos Artenices, On n'a jamais rien venger d'égal à mes supplices, Comme elle vous trahit en quittant ce seiour.,\n",
       "  Amour vous fait mou Roi Guillaume faisant semblant d'allumer les feux de joie, embrase subtilement la ville par la persuation secrète d'Artenice, Je célèbre l'amour avec un feu de joie Dont on parlera plus que de celui de Troie, Dummierej cœur, le fuzil est ion, Et le monde va voir qu'on se chauffe la Cour.,\n",
       "  Mois -tu n'ignore pas qu'Amour a davantage 1 Que tour ce que les Dieux ont pris pour leur partage, Et qu en donnant moname à ton gouvernement C'est ce que tu demande à mon consentement: M'aime tu comme il saut, Guillaume Comme ici fais ma femme.])"
      ]
     },
     "execution_count": 12,
     "metadata": {},
     "output_type": "execute_result"
    }
   ],
   "source": [
    "person_context"
   ]
  },
  {
   "cell_type": "code",
   "execution_count": 13,
   "metadata": {},
   "outputs": [],
   "source": [
    "# use the  SalientSentenceSelector to extract the top 5 sentences for the most frequent person in the document\n",
    "# this entity context made of the k sentences can then be fed to an LLM (vel sim.) to characterise the spation-temporal\n",
    "# dimension of the document\n",
    "place_context = sass.select(top_k_sentences=5, entity_type='place')"
   ]
  },
  {
   "cell_type": "code",
   "execution_count": 20,
   "metadata": {},
   "outputs": [
    {
     "data": {
      "text/plain": [
       "(Entity(qid='Q90', ner_labels=['LOC'], mention_frequency=3, unique_surface_forms=['Paris'], short_desc=''),\n",
       " [Guillaume Ah, mon ami, qu'aimer est une belle chose, Si vous saviez l'état où votre vis maintenant, Je ne fais plus de vœux à Carême-prenanf, Bacchus m'est ennemi, je fais geler les treilles, J'ai hanni les festins, j'ai rompu les bouteilles, Je ne vis que d'amour, de cipre, et d'ambregris, Je pense que le Ciel est tombé dans Paris, Ne parlez plus de vous tant de vos Artenices, On n'a jamais rien venger d'égal à mes supplices, Comme elle vous trahit en quittant ce seiour.,\n",
       "  tu me désespère Dans les délices de Paris, Où ie suis touché de Cloris Comme un roche d'H vipère, Toutes les nuits rêvant à toi Je t'appelle mon périt Roi, Je parle avec ton image, Et te fais croire à mes desseins Que le Ciel approuve l'hommage,\n",
       "  Paris en fit de même, et son Heleine aussi Souffrait innocemment par un même souci, Mon amour y consent, qu'est-ce, bien qu'un supplice Quand il est question de servir Artenice.])"
      ]
     },
     "execution_count": 20,
     "metadata": {},
     "output_type": "execute_result"
    }
   ],
   "source": [
    "place_context"
   ]
  },
  {
   "cell_type": "code",
   "execution_count": null,
   "metadata": {},
   "outputs": [
    {
     "data": {
      "text/plain": [
       "mention\n",
       "Calyante     70\n",
       "Guillaume    54\n",
       "Filandre     39\n",
       "Agaritte     37\n",
       "Aronthe      37\n",
       "             ..\n",
       "Alexandre     1\n",
       "Nectar        1\n",
       "Vulcain       1\n",
       "Jupiter       1\n",
       "Ciela         1\n",
       "Name: count, Length: 133, dtype: int64"
      ]
     },
     "execution_count": 222,
     "metadata": {},
     "output_type": "execute_result"
    }
   ],
   "source": [
    "# Guillaume is the most frequent entity in the document\n",
    "# just because Calyante was not linked to a Wikidata QID\n",
    "# To be dealt with and fixed in the next iteration\n",
    "sass._mentions_df.mention.value_counts()"
   ]
  },
  {
   "cell_type": "code",
   "execution_count": null,
   "metadata": {},
   "outputs": [],
   "source": [
    "# the summary should contain:\n",
    "# document metadata: author, title, publication date\n",
    "# top 5 person mentions\n",
    "# top 5 place mentions\n",
    "# most salient person entity + top 5 sentences\n",
    "# most salient place entity + top 5 sentences\n",
    "def build_JSON_document_summary():\n",
    "    pass"
   ]
  }
 ],
 "metadata": {
  "kernelspec": {
   "display_name": "relik",
   "language": "python",
   "name": "python3"
  },
  "language_info": {
   "codemirror_mode": {
    "name": "ipython",
    "version": 3
   },
   "file_extension": ".py",
   "mimetype": "text/x-python",
   "name": "python",
   "nbconvert_exporter": "python",
   "pygments_lexer": "ipython3",
   "version": "3.12.7"
  }
 },
 "nbformat": 4,
 "nbformat_minor": 2
}
