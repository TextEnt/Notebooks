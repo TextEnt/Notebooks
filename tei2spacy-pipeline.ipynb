{
 "cells": [
  {
   "cell_type": "markdown",
   "metadata": {},
   "source": [
    "## `tei2spacy` pipeline\n",
    "\n",
    "If we want to replace spacy entity mentions with our own ones, we need to intervene in the spacy docs, and inject our mentions.\n",
    "This is doable but requires a mapping between each token in the spacy document and TEI tags in the input TEI file. This way, we can know whether a given token is part of a `placeName` or `persName` tag and label it accordingly. At that point we can call the entity fishing service on our custom mentions."
   ]
  },
  {
   "cell_type": "code",
   "execution_count": null,
   "metadata": {},
   "outputs": [],
   "source": [
    "from tqdm import tqdm\n",
    "from textentlib.utils import nlp_model_fr, tei_element_to_ner_label, extract_metadata_from_tei, sample_files, print_corpus_summary\n",
    "from pathlib import Path\n",
    "from bs4 import BeautifulSoup as bs\n",
    "from spacy.tokens import Doc, Span, DocBin\n",
    "import xml.etree.ElementTree as etree\n",
    "\n",
    "def get_tag_from_char_index(char_start: int, char_end: int, entities: dict) -> str:\n",
    "    for (start, end), tag in entities.items():\n",
    "        if start <= char_start and end >= char_end:\n",
    "            return tag\n",
    "    return None\n",
    "\n",
    "def tei2spacy_simple(tei_file_path: Path) -> Doc:\n",
    "    soup = bs(tei_file_path.read_text(), 'xml')\n",
    "    output_text = \"\"\n",
    "    chunks = {}\n",
    "    entities = []\n",
    "    entity = {}\n",
    "    inside_entity = False\n",
    "\n",
    "    for elem in soup.findAll('reg'):\n",
    "        for node in elem.contents:\n",
    "            if isinstance(node, str):\n",
    "                output_text += node.text\n",
    "            else:\n",
    "                if node.name == 'persName' or node.name == 'placeName':\n",
    "                    offset_start = len(output_text)\n",
    "                    output_text += node.text\n",
    "                    offset_end = len(output_text)\n",
    "                    ner_tag = tei_element_to_ner_label(node.name)\n",
    "                    chunks[(offset_start, offset_end)] = ner_tag\n",
    "                else:\n",
    "                    output_text += node.text\n",
    "        output_text += \" \"\n",
    "\n",
    "    # extract metadata from TEI\n",
    "    metadata = extract_metadata_from_tei(etree.parse(tei_file_path))\n",
    "    \n",
    "    # create a spacy doc object\n",
    "    doc = nlp_model_fr(output_text)\n",
    "    doc.user_data['author'] = metadata['author']\n",
    "    doc.user_data['title'] = metadata['title']\n",
    "    doc.user_data['publication_date'] = metadata['date']\n",
    "    doc.user_data['path'] = str(tei_file_path) \n",
    "    doc.user_data['filename'] = str(tei_file_path.name)\n",
    "    doc.user_data['entity_linking'] = None\n",
    "\n",
    "\n",
    "    # Iterate over the tokens in the document and project the entities from the TEI document\n",
    "    # onto character offsets of tokens in the SpaCy document\n",
    "    for token in doc:\n",
    "        ner_label = get_tag_from_char_index(token.idx, token.idx + len(token.text), chunks)\n",
    "        if inside_entity:\n",
    "            if ner_label is None:\n",
    "                entities.append(entity)\n",
    "                entity = {}\n",
    "                inside_entity = False\n",
    "            else:\n",
    "                if entity['label'] == ner_label:\n",
    "                    entity['chunks'].append(token)\n",
    "                else:\n",
    "                    entities.append(entity)\n",
    "                    entity = {\n",
    "                        'label': ner_label,\n",
    "                        'chunks': [token]\n",
    "                    } \n",
    "        else:\n",
    "            if ner_label is not None:\n",
    "                entity['label'] = ner_label\n",
    "                entity['chunks'] = [token]\n",
    "                inside_entity = True\n",
    "\n",
    "    # Convert the entities to Spacy format\n",
    "    # NB: start and end are token indices, not character offsets\n",
    "    entities_to_add = []\n",
    "    for entity in entities:\n",
    "        spacy_ent = {}\n",
    "        spacy_ent['start'] = entity['chunks'][0].i\n",
    "        spacy_ent['end'] = entity['chunks'][-1].i + 1\n",
    "        spacy_ent['label'] = entity['label']\n",
    "        entities_to_add.append(spacy_ent)\n",
    "\n",
    "    # Create Span objects for each entity and inject them into the Doc object\n",
    "    doc.ents = [Span(doc, ent[\"start\"], ent[\"end\"], label=ent[\"label\"]) for ent in entities_to_add]\n",
    "    return doc"
   ]
  },
  {
   "cell_type": "code",
   "execution_count": 2,
   "metadata": {},
   "outputs": [],
   "source": [
    "SPACY_CORPUS_SERIALIZED_PATH = \"./data/corpus_new.spacy\"\n",
    "CORPUS_PATH = \"../TheatreLFSV2-downloaded/\""
   ]
  },
  {
   "cell_type": "code",
   "execution_count": 3,
   "metadata": {},
   "outputs": [
    {
     "name": "stdout",
     "output_type": "stream",
     "text": [
      "Loaded serialize spacy corpus from ./data/corpus_new.spacy\n"
     ]
    }
   ],
   "source": [
    "if Path(SPACY_CORPUS_SERIALIZED_PATH).exists():\n",
    "    spacy_corpus = DocBin(store_user_data=True).from_disk(SPACY_CORPUS_SERIALIZED_PATH)\n",
    "    print(f\"Loaded serialize spacy corpus from {SPACY_CORPUS_SERIALIZED_PATH}\")\n",
    "else:\n",
    "    spacy_corpus = DocBin(store_user_data=True)"
   ]
  },
  {
   "cell_type": "code",
   "execution_count": 4,
   "metadata": {},
   "outputs": [
    {
     "name": "stdout",
     "output_type": "stream",
     "text": [
      "Number of documents in the corpus: 594\n",
      "Number of entities in the corpus: 287389\n",
      "Number of tokens in the corpus: 12885306\n"
     ]
    }
   ],
   "source": [
    "print_corpus_summary(spacy_corpus, nlp_model_fr)"
   ]
  },
  {
   "cell_type": "code",
   "execution_count": 6,
   "metadata": {},
   "outputs": [],
   "source": [
    "already_processed_files = set([Path(doc.user_data['path']) for doc in spacy_corpus.get_docs(nlp_model_fr.vocab)])"
   ]
  },
  {
   "cell_type": "code",
   "execution_count": 7,
   "metadata": {},
   "outputs": [
    {
     "data": {
      "text/plain": [
       "100"
      ]
     },
     "execution_count": 7,
     "metadata": {},
     "output_type": "execute_result"
    }
   ],
   "source": [
    "len(already_processed_files)"
   ]
  },
  {
   "cell_type": "code",
   "execution_count": 11,
   "metadata": {},
   "outputs": [
    {
     "name": "stdout",
     "output_type": "stream",
     "text": [
      "Found 594 files in ../TheatreLFSV2-downloaded/NER\n",
      "Excluded 100 files: kept 494 files\n"
     ]
    }
   ],
   "source": [
    "sample_size = 100\n",
    "corpus_basedir = Path(CORPUS_PATH)\n",
    "sampled_files = sample_files(Path(corpus_basedir / 'NER'), sample_size, already_processed_files)"
   ]
  },
  {
   "cell_type": "code",
   "execution_count": 16,
   "metadata": {},
   "outputs": [],
   "source": [
    "sampled_files = set(Path(corpus_basedir / 'NER').iterdir()) - already_processed_files"
   ]
  },
  {
   "cell_type": "code",
   "execution_count": 22,
   "metadata": {},
   "outputs": [
    {
     "data": {
      "text/plain": [
       "494"
      ]
     },
     "execution_count": 22,
     "metadata": {},
     "output_type": "execute_result"
    }
   ],
   "source": [
    "len(sampled_files)"
   ]
  },
  {
   "cell_type": "code",
   "execution_count": 18,
   "metadata": {},
   "outputs": [],
   "source": [
    "# there should not be files in the sample that have already been processed\n",
    "assert len(set(sampled_files) - already_processed_files) == len(sampled_files) "
   ]
  },
  {
   "cell_type": "code",
   "execution_count": 10,
   "metadata": {},
   "outputs": [],
   "source": [
    "#!head -n 200 {str(sampled_files[0])}"
   ]
  },
  {
   "cell_type": "code",
   "execution_count": 23,
   "metadata": {},
   "outputs": [
    {
     "name": "stderr",
     "output_type": "stream",
     "text": [
      "100%|██████████| 494/494 [24:16<00:00,  2.95s/it]  \n"
     ]
    }
   ],
   "source": [
    "docs = [tei2spacy_simple(file) for file in tqdm(sampled_files)]"
   ]
  },
  {
   "cell_type": "code",
   "execution_count": 24,
   "metadata": {},
   "outputs": [
    {
     "name": "stdout",
     "output_type": "stream",
     "text": [
      "Number of documents in the corpus: 594\n",
      "Number of entities in the corpus: 287389\n",
      "Number of tokens in the corpus: 12885306\n"
     ]
    }
   ],
   "source": [
    "for doc in docs:\n",
    "    spacy_corpus.add(doc)\n",
    "    \n",
    "print_corpus_summary(spacy_corpus, nlp_model_fr)"
   ]
  },
  {
   "cell_type": "code",
   "execution_count": 25,
   "metadata": {},
   "outputs": [
    {
     "data": {
      "text/plain": [
       "494"
      ]
     },
     "execution_count": 25,
     "metadata": {},
     "output_type": "execute_result"
    }
   ],
   "source": [
    "len(docs)"
   ]
  },
  {
   "cell_type": "code",
   "execution_count": 26,
   "metadata": {},
   "outputs": [],
   "source": [
    "spacy_corpus.to_disk(SPACY_CORPUS_SERIALIZED_PATH)"
   ]
  }
 ],
 "metadata": {
  "kernelspec": {
   "display_name": "textent",
   "language": "python",
   "name": "python3"
  },
  "language_info": {
   "codemirror_mode": {
    "name": "ipython",
    "version": 3
   },
   "file_extension": ".py",
   "mimetype": "text/x-python",
   "name": "python",
   "nbconvert_exporter": "python",
   "pygments_lexer": "ipython3",
   "version": "3.11.9"
  }
 },
 "nbformat": 4,
 "nbformat_minor": 2
}
