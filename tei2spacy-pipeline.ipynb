{
 "cells": [
  {
   "cell_type": "markdown",
   "metadata": {},
   "source": [
    "## `tei2spacy` pipeline\n",
    "\n",
    "If we want to replace spacy entity mentions with our own ones, we need to intervene in the spacy docs, and inject our mentions.\n",
    "This is doable but requires a mapping between each token in the spacy document and TEI tags in the input TEI file. This way, we can know whether a given token is part of a `placeName` or `persName` tag and label it accordingly. At that point we can call the entity fishing service on our custom mentions."
   ]
  },
  {
   "cell_type": "code",
   "execution_count": null,
   "metadata": {},
   "outputs": [],
   "source": [
    "import sys\n",
    "import dask.bag as db\n",
    "from pathlib import Path\n",
    "sys.path.append(\"../\")\n",
    "from spacy.tokens import DocBin\n",
    "from lib.utils import tei2spacy, nlp_model_fr, sample_files, print_corpus_summary\n",
    "from dask.distributed import Client, LocalCluster"
   ]
  },
  {
   "cell_type": "code",
   "execution_count": null,
   "metadata": {},
   "outputs": [],
   "source": [
    "SPACY_CORPUS_SERIALIZED_PATH = \"./data/corpus.spacy\"\n",
    "CORPUS_PATH = \"../TheatreLFSV2-downloaded/\""
   ]
  },
  {
   "cell_type": "code",
   "execution_count": null,
   "metadata": {},
   "outputs": [],
   "source": [
    "if Path(SPACY_CORPUS_SERIALIZED_PATH).exists():\n",
    "    spacy_corpus = DocBin(store_user_data=True).from_disk(SPACY_CORPUS_SERIALIZED_PATH)\n",
    "    print(f\"Loaded serialize spacy corpus from {SPACY_CORPUS_SERIALIZED_PATH}\")\n",
    "else:\n",
    "    spacy_corpus = DocBin(store_user_data=True)"
   ]
  },
  {
   "cell_type": "code",
   "execution_count": null,
   "metadata": {},
   "outputs": [],
   "source": [
    "print_corpus_summary(spacy_corpus, nlp_model_fr)"
   ]
  },
  {
   "cell_type": "code",
   "execution_count": null,
   "metadata": {},
   "outputs": [],
   "source": [
    "already_processed_files = set([Path(doc.user_data['path']) for doc in spacy_corpus.get_docs(nlp_model_fr.vocab)])"
   ]
  },
  {
   "cell_type": "code",
   "execution_count": null,
   "metadata": {},
   "outputs": [],
   "source": [
    "sample_size = 10\n",
    "corpus_basedir = Path(CORPUS_PATH)\n",
    "sampled_files = sample_files(Path(corpus_basedir / 'NER'), 10, already_processed_files)"
   ]
  },
  {
   "cell_type": "code",
   "execution_count": null,
   "metadata": {},
   "outputs": [],
   "source": [
    "# there should not be files in the sample that have already been processed\n",
    "assert len(set(sampled_files) - already_processed_files) == len(sampled_files) "
   ]
  },
  {
   "cell_type": "code",
   "execution_count": null,
   "metadata": {},
   "outputs": [],
   "source": [
    "#sampled_files"
   ]
  },
  {
   "cell_type": "code",
   "execution_count": null,
   "metadata": {},
   "outputs": [],
   "source": [
    "# setting up Dask stuff for parallel processing\n",
    "cluster = LocalCluster()\n",
    "dask_client = Client(cluster)"
   ]
  },
  {
   "cell_type": "code",
   "execution_count": null,
   "metadata": {},
   "outputs": [],
   "source": [
    "dask_client"
   ]
  },
  {
   "cell_type": "code",
   "execution_count": null,
   "metadata": {},
   "outputs": [],
   "source": [
    "entity_projection = True\n",
    "disable_pb = True\n",
    "docs = db.from_sequence(sampled_files).map(tei2spacy, entity_projection, disable_pb).compute()"
   ]
  },
  {
   "cell_type": "code",
   "execution_count": null,
   "metadata": {},
   "outputs": [],
   "source": [
    "for doc in docs:\n",
    "    spacy_corpus.add(doc)\n",
    "    \n",
    "print_corpus_summary(spacy_corpus, nlp_model_fr)"
   ]
  },
  {
   "cell_type": "code",
   "execution_count": null,
   "metadata": {},
   "outputs": [],
   "source": [
    "spacy_corpus.to_disk(SPACY_CORPUS_SERIALIZED_PATH)"
   ]
  }
 ],
 "metadata": {
  "kernelspec": {
   "display_name": "relik",
   "language": "python",
   "name": "python3"
  },
  "language_info": {
   "codemirror_mode": {
    "name": "ipython",
    "version": 3
   },
   "file_extension": ".py",
   "mimetype": "text/x-python",
   "name": "python",
   "nbconvert_exporter": "python",
   "pygments_lexer": "ipython3",
   "version": "3.12.7"
  }
 },
 "nbformat": 4,
 "nbformat_minor": 2
}
